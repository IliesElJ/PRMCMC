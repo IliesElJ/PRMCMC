{
 "cells": [
  {
   "cell_type": "code",
   "execution_count": 1,
   "id": "0429e7a5",
   "metadata": {
    "collapsed": true,
    "pycharm": {
     "name": "#%%\n"
    }
   },
   "outputs": [
    {
     "ename": "KeyboardInterrupt",
     "evalue": "",
     "output_type": "error",
     "traceback": [
      "\u001b[1;31m---------------------------------------------------------------------------\u001b[0m",
      "\u001b[1;31mKeyboardInterrupt\u001b[0m                         Traceback (most recent call last)",
      "Cell \u001b[1;32mIn[1], line 1\u001b[0m\n\u001b[1;32m----> 1\u001b[0m \u001b[38;5;28;01mfrom\u001b[39;00m \u001b[38;5;21;01mparticles\u001b[39;00m \u001b[38;5;28;01mimport\u001b[39;00m mcmc\n\u001b[0;32m      2\u001b[0m \u001b[38;5;28;01mfrom\u001b[39;00m \u001b[38;5;21;01mparticles\u001b[39;00m \u001b[38;5;28;01mimport\u001b[39;00m core\n\u001b[0;32m      3\u001b[0m \u001b[38;5;28;01mimport\u001b[39;00m \u001b[38;5;21;01mnumpy\u001b[39;00m \u001b[38;5;28;01mas\u001b[39;00m \u001b[38;5;21;01mnp\u001b[39;00m\n",
      "File \u001b[1;32m~\\anaconda3\\Lib\\site-packages\\particles\\__init__.py:8\u001b[0m\n\u001b[0;32m      1\u001b[0m \u001b[38;5;124;03m\"\"\"\u001b[39;00m\n\u001b[0;32m      2\u001b[0m \u001b[38;5;124;03mSequential Monte Carlo in python.\u001b[39;00m\n\u001b[0;32m      3\u001b[0m \n\u001b[0;32m      4\u001b[0m \u001b[38;5;124;03m\"\"\"\u001b[39;00m\n\u001b[0;32m      6\u001b[0m __version__ \u001b[38;5;241m=\u001b[39m \u001b[38;5;124m'\u001b[39m\u001b[38;5;124m0.3alpha\u001b[39m\u001b[38;5;124m'\u001b[39m\n\u001b[1;32m----> 8\u001b[0m \u001b[38;5;28;01mfrom\u001b[39;00m \u001b[38;5;21;01mparticles\u001b[39;00m\u001b[38;5;21;01m.\u001b[39;00m\u001b[38;5;21;01mcore\u001b[39;00m \u001b[38;5;28;01mimport\u001b[39;00m SMC, FeynmanKac, multiSMC\n",
      "File \u001b[1;32m~\\anaconda3\\Lib\\site-packages\\particles\\core.py:101\u001b[0m\n\u001b[0;32m     99\u001b[0m \u001b[38;5;28;01mfrom\u001b[39;00m \u001b[38;5;21;01mparticles\u001b[39;00m \u001b[38;5;28;01mimport\u001b[39;00m collectors, hilbert\n\u001b[0;32m    100\u001b[0m \u001b[38;5;28;01mfrom\u001b[39;00m \u001b[38;5;21;01mparticles\u001b[39;00m \u001b[38;5;28;01mimport\u001b[39;00m resampling \u001b[38;5;28;01mas\u001b[39;00m rs\n\u001b[1;32m--> 101\u001b[0m \u001b[38;5;28;01mfrom\u001b[39;00m \u001b[38;5;21;01mparticles\u001b[39;00m \u001b[38;5;28;01mimport\u001b[39;00m rqmc, smoothing, utils\n\u001b[0;32m    103\u001b[0m err_msg_missing_trans \u001b[38;5;241m=\u001b[39m \u001b[38;5;124m\"\"\"\u001b[39m\n\u001b[0;32m    104\u001b[0m \u001b[38;5;124m    Feynman-Kac class \u001b[39m\u001b[38;5;132;01m%s\u001b[39;00m\u001b[38;5;124m is missing method logpt, which provides the log-pdf\u001b[39m\n\u001b[0;32m    105\u001b[0m \u001b[38;5;124m    of Markov transition X_t | X_\u001b[39m\u001b[38;5;124m{\u001b[39m\u001b[38;5;124mt-1}. This is required by most smoothing\u001b[39m\n\u001b[0;32m    106\u001b[0m \u001b[38;5;124m    algorithms.\u001b[39m\u001b[38;5;124m\"\"\"\u001b[39m\n\u001b[0;32m    108\u001b[0m \u001b[38;5;28;01mclass\u001b[39;00m \u001b[38;5;21;01mFeynmanKac\u001b[39;00m:\n",
      "File \u001b[1;32m~\\anaconda3\\Lib\\site-packages\\particles\\rqmc.py:4\u001b[0m\n\u001b[0;32m      1\u001b[0m \u001b[38;5;124;03m\"\"\"Randomised quasi-Monte Carlo sequences.\u001b[39;00m\n\u001b[0;32m      2\u001b[0m \n\u001b[0;32m      3\u001b[0m \u001b[38;5;124;03m\"\"\"\u001b[39;00m\n\u001b[1;32m----> 4\u001b[0m \u001b[38;5;28;01mfrom\u001b[39;00m \u001b[38;5;21;01mscipy\u001b[39;00m\u001b[38;5;21;01m.\u001b[39;00m\u001b[38;5;21;01mstats\u001b[39;00m \u001b[38;5;28;01mimport\u001b[39;00m qmc\n\u001b[0;32m      6\u001b[0m TOL \u001b[38;5;241m=\u001b[39m \u001b[38;5;241m1e-10\u001b[39m\n\u001b[0;32m      8\u001b[0m \u001b[38;5;28;01mdef\u001b[39;00m \u001b[38;5;21msafe_generate\u001b[39m(N, d, engine_cls):\n",
      "File \u001b[1;32m~\\anaconda3\\Lib\\site-packages\\scipy\\stats\\__init__.py:485\u001b[0m\n\u001b[0;32m      1\u001b[0m \u001b[38;5;124;03m\"\"\"\u001b[39;00m\n\u001b[0;32m      2\u001b[0m \u001b[38;5;124;03m.. _statsrefmanual:\u001b[39;00m\n\u001b[0;32m      3\u001b[0m \n\u001b[1;32m   (...)\u001b[0m\n\u001b[0;32m    480\u001b[0m \n\u001b[0;32m    481\u001b[0m \u001b[38;5;124;03m\"\"\"\u001b[39;00m\n\u001b[0;32m    483\u001b[0m \u001b[38;5;28;01mfrom\u001b[39;00m \u001b[38;5;21;01m.\u001b[39;00m\u001b[38;5;21;01m_warnings_errors\u001b[39;00m \u001b[38;5;28;01mimport\u001b[39;00m (ConstantInputWarning, NearConstantInputWarning,\n\u001b[0;32m    484\u001b[0m                                DegenerateDataWarning, FitError)\n\u001b[1;32m--> 485\u001b[0m \u001b[38;5;28;01mfrom\u001b[39;00m \u001b[38;5;21;01m.\u001b[39;00m\u001b[38;5;21;01m_stats_py\u001b[39;00m \u001b[38;5;28;01mimport\u001b[39;00m \u001b[38;5;241m*\u001b[39m\n\u001b[0;32m    486\u001b[0m \u001b[38;5;28;01mfrom\u001b[39;00m \u001b[38;5;21;01m.\u001b[39;00m\u001b[38;5;21;01m_variation\u001b[39;00m \u001b[38;5;28;01mimport\u001b[39;00m variation\n\u001b[0;32m    487\u001b[0m \u001b[38;5;28;01mfrom\u001b[39;00m \u001b[38;5;21;01m.\u001b[39;00m\u001b[38;5;21;01mdistributions\u001b[39;00m \u001b[38;5;28;01mimport\u001b[39;00m \u001b[38;5;241m*\u001b[39m\n",
      "File \u001b[1;32m~\\anaconda3\\Lib\\site-packages\\scipy\\stats\\_stats_py.py:46\u001b[0m\n\u001b[0;32m     44\u001b[0m \u001b[38;5;28;01mimport\u001b[39;00m \u001b[38;5;21;01mscipy\u001b[39;00m\u001b[38;5;21;01m.\u001b[39;00m\u001b[38;5;21;01mspecial\u001b[39;00m \u001b[38;5;28;01mas\u001b[39;00m \u001b[38;5;21;01mspecial\u001b[39;00m\n\u001b[0;32m     45\u001b[0m \u001b[38;5;28;01mfrom\u001b[39;00m \u001b[38;5;21;01mscipy\u001b[39;00m \u001b[38;5;28;01mimport\u001b[39;00m linalg\n\u001b[1;32m---> 46\u001b[0m \u001b[38;5;28;01mfrom\u001b[39;00m \u001b[38;5;21;01m.\u001b[39;00m \u001b[38;5;28;01mimport\u001b[39;00m distributions\n\u001b[0;32m     47\u001b[0m \u001b[38;5;28;01mfrom\u001b[39;00m \u001b[38;5;21;01m.\u001b[39;00m \u001b[38;5;28;01mimport\u001b[39;00m _mstats_basic \u001b[38;5;28;01mas\u001b[39;00m mstats_basic\n\u001b[0;32m     48\u001b[0m \u001b[38;5;28;01mfrom\u001b[39;00m \u001b[38;5;21;01m.\u001b[39;00m\u001b[38;5;21;01m_stats_mstats_common\u001b[39;00m \u001b[38;5;28;01mimport\u001b[39;00m (_find_repeats, linregress, theilslopes,\n\u001b[0;32m     49\u001b[0m                                    siegelslopes)\n",
      "File \u001b[1;32m~\\anaconda3\\Lib\\site-packages\\scipy\\stats\\distributions.py:8\u001b[0m\n\u001b[0;32m      1\u001b[0m \u001b[38;5;66;03m#\u001b[39;00m\n\u001b[0;32m      2\u001b[0m \u001b[38;5;66;03m# Author:  Travis Oliphant  2002-2011 with contributions from\u001b[39;00m\n\u001b[0;32m      3\u001b[0m \u001b[38;5;66;03m#          SciPy Developers 2004-2011\u001b[39;00m\n\u001b[1;32m   (...)\u001b[0m\n\u001b[0;32m      6\u001b[0m \u001b[38;5;66;03m#       instead of `git blame -Lxxx,+x`.\u001b[39;00m\n\u001b[0;32m      7\u001b[0m \u001b[38;5;66;03m#\u001b[39;00m\n\u001b[1;32m----> 8\u001b[0m \u001b[38;5;28;01mfrom\u001b[39;00m \u001b[38;5;21;01m.\u001b[39;00m\u001b[38;5;21;01m_distn_infrastructure\u001b[39;00m \u001b[38;5;28;01mimport\u001b[39;00m (rv_discrete, rv_continuous, rv_frozen)\n\u001b[0;32m     10\u001b[0m \u001b[38;5;28;01mfrom\u001b[39;00m \u001b[38;5;21;01m.\u001b[39;00m \u001b[38;5;28;01mimport\u001b[39;00m _continuous_distns\n\u001b[0;32m     11\u001b[0m \u001b[38;5;28;01mfrom\u001b[39;00m \u001b[38;5;21;01m.\u001b[39;00m \u001b[38;5;28;01mimport\u001b[39;00m _discrete_distns\n",
      "File \u001b[1;32m~\\anaconda3\\Lib\\site-packages\\scipy\\stats\\_distn_infrastructure.py:22\u001b[0m\n\u001b[0;32m     18\u001b[0m \u001b[38;5;28;01mfrom\u001b[39;00m \u001b[38;5;21;01mscipy\u001b[39;00m\u001b[38;5;21;01m.\u001b[39;00m\u001b[38;5;21;01mspecial\u001b[39;00m \u001b[38;5;28;01mimport\u001b[39;00m comb, entr\n\u001b[0;32m     20\u001b[0m \u001b[38;5;66;03m# for root finding for continuous distribution ppf, and max likelihood\u001b[39;00m\n\u001b[0;32m     21\u001b[0m \u001b[38;5;66;03m# estimation\u001b[39;00m\n\u001b[1;32m---> 22\u001b[0m \u001b[38;5;28;01mfrom\u001b[39;00m \u001b[38;5;21;01mscipy\u001b[39;00m \u001b[38;5;28;01mimport\u001b[39;00m optimize\n\u001b[0;32m     24\u001b[0m \u001b[38;5;66;03m# for functions of continuous distributions (e.g. moments, entropy, cdf)\u001b[39;00m\n\u001b[0;32m     25\u001b[0m \u001b[38;5;28;01mfrom\u001b[39;00m \u001b[38;5;21;01mscipy\u001b[39;00m \u001b[38;5;28;01mimport\u001b[39;00m integrate\n",
      "File \u001b[1;32m<frozen importlib._bootstrap>:1229\u001b[0m, in \u001b[0;36m_handle_fromlist\u001b[1;34m(module, fromlist, import_, recursive)\u001b[0m\n",
      "File \u001b[1;32m~\\anaconda3\\Lib\\site-packages\\scipy\\__init__.py:200\u001b[0m, in \u001b[0;36m__getattr__\u001b[1;34m(name)\u001b[0m\n\u001b[0;32m    198\u001b[0m \u001b[38;5;28;01mdef\u001b[39;00m \u001b[38;5;21m__getattr__\u001b[39m(name):\n\u001b[0;32m    199\u001b[0m     \u001b[38;5;28;01mif\u001b[39;00m name \u001b[38;5;129;01min\u001b[39;00m submodules:\n\u001b[1;32m--> 200\u001b[0m         \u001b[38;5;28;01mreturn\u001b[39;00m _importlib\u001b[38;5;241m.\u001b[39mimport_module(\u001b[38;5;124mf\u001b[39m\u001b[38;5;124m'\u001b[39m\u001b[38;5;124mscipy.\u001b[39m\u001b[38;5;132;01m{\u001b[39;00mname\u001b[38;5;132;01m}\u001b[39;00m\u001b[38;5;124m'\u001b[39m)\n\u001b[0;32m    201\u001b[0m     \u001b[38;5;28;01melse\u001b[39;00m:\n\u001b[0;32m    202\u001b[0m         \u001b[38;5;28;01mtry\u001b[39;00m:\n",
      "File \u001b[1;32m~\\anaconda3\\Lib\\importlib\\__init__.py:126\u001b[0m, in \u001b[0;36mimport_module\u001b[1;34m(name, package)\u001b[0m\n\u001b[0;32m    124\u001b[0m             \u001b[38;5;28;01mbreak\u001b[39;00m\n\u001b[0;32m    125\u001b[0m         level \u001b[38;5;241m+\u001b[39m\u001b[38;5;241m=\u001b[39m \u001b[38;5;241m1\u001b[39m\n\u001b[1;32m--> 126\u001b[0m \u001b[38;5;28;01mreturn\u001b[39;00m _bootstrap\u001b[38;5;241m.\u001b[39m_gcd_import(name[level:], package, level)\n",
      "File \u001b[1;32m~\\anaconda3\\Lib\\site-packages\\scipy\\optimize\\__init__.py:425\u001b[0m\n\u001b[0;32m    421\u001b[0m \u001b[38;5;28;01mfrom\u001b[39;00m \u001b[38;5;21;01m.\u001b[39;00m\u001b[38;5;21;01m_constraints\u001b[39;00m \u001b[38;5;28;01mimport\u001b[39;00m (NonlinearConstraint,\n\u001b[0;32m    422\u001b[0m                            LinearConstraint,\n\u001b[0;32m    423\u001b[0m                            Bounds)\n\u001b[0;32m    424\u001b[0m \u001b[38;5;28;01mfrom\u001b[39;00m \u001b[38;5;21;01m.\u001b[39;00m\u001b[38;5;21;01m_hessian_update_strategy\u001b[39;00m \u001b[38;5;28;01mimport\u001b[39;00m HessianUpdateStrategy, BFGS, SR1\n\u001b[1;32m--> 425\u001b[0m \u001b[38;5;28;01mfrom\u001b[39;00m \u001b[38;5;21;01m.\u001b[39;00m\u001b[38;5;21;01m_shgo\u001b[39;00m \u001b[38;5;28;01mimport\u001b[39;00m shgo\n\u001b[0;32m    426\u001b[0m \u001b[38;5;28;01mfrom\u001b[39;00m \u001b[38;5;21;01m.\u001b[39;00m\u001b[38;5;21;01m_dual_annealing\u001b[39;00m \u001b[38;5;28;01mimport\u001b[39;00m dual_annealing\n\u001b[0;32m    427\u001b[0m \u001b[38;5;28;01mfrom\u001b[39;00m \u001b[38;5;21;01m.\u001b[39;00m\u001b[38;5;21;01m_qap\u001b[39;00m \u001b[38;5;28;01mimport\u001b[39;00m quadratic_assignment\n",
      "File \u001b[1;32m~\\anaconda3\\Lib\\site-packages\\scipy\\optimize\\_shgo.py:13\u001b[0m\n\u001b[0;32m     11\u001b[0m \u001b[38;5;28;01mfrom\u001b[39;00m \u001b[38;5;21;01mscipy\u001b[39;00m\u001b[38;5;21;01m.\u001b[39;00m\u001b[38;5;21;01moptimize\u001b[39;00m\u001b[38;5;21;01m.\u001b[39;00m\u001b[38;5;21;01m_constraints\u001b[39;00m \u001b[38;5;28;01mimport\u001b[39;00m new_bounds_to_old\n\u001b[0;32m     12\u001b[0m \u001b[38;5;28;01mfrom\u001b[39;00m \u001b[38;5;21;01m.\u001b[39;00m\u001b[38;5;21;01m_optimize\u001b[39;00m \u001b[38;5;28;01mimport\u001b[39;00m _wrap_scalar_function\n\u001b[1;32m---> 13\u001b[0m \u001b[38;5;28;01mfrom\u001b[39;00m \u001b[38;5;21;01mscipy\u001b[39;00m\u001b[38;5;21;01m.\u001b[39;00m\u001b[38;5;21;01moptimize\u001b[39;00m\u001b[38;5;21;01m.\u001b[39;00m\u001b[38;5;21;01m_shgo_lib\u001b[39;00m\u001b[38;5;21;01m.\u001b[39;00m\u001b[38;5;21;01mtriangulation\u001b[39;00m \u001b[38;5;28;01mimport\u001b[39;00m Complex\n\u001b[0;32m     16\u001b[0m __all__ \u001b[38;5;241m=\u001b[39m [\u001b[38;5;124m'\u001b[39m\u001b[38;5;124mshgo\u001b[39m\u001b[38;5;124m'\u001b[39m]\n\u001b[0;32m     19\u001b[0m \u001b[38;5;28;01mdef\u001b[39;00m \u001b[38;5;21mshgo\u001b[39m(func, bounds, args\u001b[38;5;241m=\u001b[39m(), constraints\u001b[38;5;241m=\u001b[39m\u001b[38;5;28;01mNone\u001b[39;00m, n\u001b[38;5;241m=\u001b[39m\u001b[38;5;28;01mNone\u001b[39;00m, iters\u001b[38;5;241m=\u001b[39m\u001b[38;5;241m1\u001b[39m,\n\u001b[0;32m     20\u001b[0m          callback\u001b[38;5;241m=\u001b[39m\u001b[38;5;28;01mNone\u001b[39;00m,\n\u001b[0;32m     21\u001b[0m          minimizer_kwargs\u001b[38;5;241m=\u001b[39m\u001b[38;5;28;01mNone\u001b[39;00m, options\u001b[38;5;241m=\u001b[39m\u001b[38;5;28;01mNone\u001b[39;00m, sampling_method\u001b[38;5;241m=\u001b[39m\u001b[38;5;124m'\u001b[39m\u001b[38;5;124msimplicial\u001b[39m\u001b[38;5;124m'\u001b[39m):\n",
      "File \u001b[1;32m<frozen importlib._bootstrap>:1176\u001b[0m, in \u001b[0;36m_find_and_load\u001b[1;34m(name, import_)\u001b[0m\n",
      "File \u001b[1;32m<frozen importlib._bootstrap>:1147\u001b[0m, in \u001b[0;36m_find_and_load_unlocked\u001b[1;34m(name, import_)\u001b[0m\n",
      "File \u001b[1;32m<frozen importlib._bootstrap>:690\u001b[0m, in \u001b[0;36m_load_unlocked\u001b[1;34m(spec)\u001b[0m\n",
      "File \u001b[1;32m<frozen importlib._bootstrap_external>:936\u001b[0m, in \u001b[0;36mexec_module\u001b[1;34m(self, module)\u001b[0m\n",
      "File \u001b[1;32m<frozen importlib._bootstrap_external>:1026\u001b[0m, in \u001b[0;36mget_code\u001b[1;34m(self, fullname)\u001b[0m\n",
      "File \u001b[1;32m<frozen importlib._bootstrap_external>:1148\u001b[0m, in \u001b[0;36mpath_stats\u001b[1;34m(self, path)\u001b[0m\n",
      "File \u001b[1;32m<frozen importlib._bootstrap_external>:147\u001b[0m, in \u001b[0;36m_path_stat\u001b[1;34m(path)\u001b[0m\n",
      "\u001b[1;31mKeyboardInterrupt\u001b[0m: "
     ]
    }
   ],
   "source": [
    "from particles import mcmc\n",
    "from particles import core\n",
    "import numpy as np\n",
    "from particles import state_space_models as ssms\n",
    "from particles import smc_samplers as ssp\n",
    "import particles\n",
    "from random import uniform\n",
    "from particles.mcmc import CSMC\n",
    "import pandas as pd"
   ]
  },
  {
   "cell_type": "markdown",
   "id": "1b2553ca",
   "metadata": {
    "pycharm": {
     "name": "#%% md\n"
    }
   },
   "source": [
    "## Particle Gibbs class"
   ]
  },
  {
   "cell_type": "code",
   "execution_count": null,
   "id": "ff5426bf",
   "metadata": {
    "pycharm": {
     "name": "#%%\n"
    }
   },
   "outputs": [],
   "source": [
    "from numba import njit\n",
    "bs = ssms.Bootstrap\n",
    "\n",
    "class ParticleGibbsRolling(mcmc.GenericGibbs):\n",
    "    \"\"\"Particle Gibbs sampler (abstract class).\n",
    "\n",
    "    Parameters\n",
    "    ----------\n",
    "    niter: int (default=10)\n",
    "        number of MCMC iterations\n",
    "    verbose: int (default=0)\n",
    "        progress report printed every (niter/verbose) iterations (never if 0)\n",
    "    ssm_cls: `StateSpaceModel` subclass\n",
    "        parametric class of state-space models\n",
    "    prior: `StructDist` object\n",
    "        prior distribution\n",
    "    data: list-like\n",
    "        data\n",
    "    theta0: structured array\n",
    "        starting point of the chain (if None, generated from the prior)\n",
    "    Nx: int\n",
    "        number of x-particles (in the CSMC step)\n",
    "    fk_cls: FeynmanKac class (default=None)\n",
    "        which Feynman-Kac model to use (if None, set to ssms.Bootstrap, however,\n",
    "        one may use instead e.g. ssm.GuidedPF)\n",
    "    regenerate_data: bool (default=False)\n",
    "        re-generate the data at each step; in the case the algorithm samples\n",
    "        from the *prior*; useful to check if the algorithm is correct (i.e.\n",
    "        if the update_theta method leaves invariant the conditional\n",
    "        distributions of theta given x and y)\n",
    "    backward_step: \n",
    "    (default=False)\n",
    "        whether to run the backward step\n",
    "    store_x: bool (default=False)\n",
    "        store the states at each iteration (if False only the theta's are\n",
    "        stored)\n",
    "\n",
    "    Note\n",
    "    ----\n",
    "    To subclass `ParticleGibbs`, define method `update_theta`, which samples\n",
    "    theta given a state trajectory x.\n",
    "\n",
    "    \"\"\"\n",
    "\n",
    "    def __init__(\n",
    "        self,\n",
    "        niter=10,\n",
    "        verbose=0,\n",
    "        ssm_cls=None,\n",
    "        prior=None,\n",
    "        data=None,\n",
    "        theta0=None,\n",
    "        Nx=20,\n",
    "        fk_cls=None,\n",
    "        regenerate_data=False,\n",
    "        backward_step=False,\n",
    "        store_x=False,\n",
    "        M=30,\n",
    "        K=5,\n",
    "        L=5\n",
    "    ):\n",
    "        mcmc.GenericGibbs.__init__(\n",
    "            self,\n",
    "            niter=niter,\n",
    "            verbose=verbose,\n",
    "            ssm_cls=ssm_cls,\n",
    "            prior=prior,\n",
    "            data=data,\n",
    "            theta0=theta0,\n",
    "            store_x=store_x,\n",
    "        )\n",
    "        self.Nx = Nx\n",
    "        self.fk_cls = ssms.Bootstrap if fk_cls is None else fk_cls\n",
    "        self.regenerate_data = regenerate_data\n",
    "        self.backward_step = backward_step\n",
    "        self.M = M\n",
    "        self.K = K\n",
    "        self.L = L\n",
    "\n",
    "    def print_verbose(self, message):\n",
    "        \"\"\"Prints a message only if verbose mode is enabled.\"\"\"\n",
    "        if self.verbose:\n",
    "            print(message)\n",
    "\n",
    "    def fk_mod(self, theta):\n",
    "        ssm = self.ssm_cls(**ssp.rec_to_dict(theta))\n",
    "        return self.fk_cls(ssm=ssm, data=self.data)\n",
    "\n",
    "    def update_states(self, theta, x):\n",
    "\n",
    "        fk = self.fk_mod(theta)\n",
    "        if x is None:\n",
    "            cpf = particles.SMC(fk=fk, N=self.Nx, store_history=True)\n",
    "        else:\n",
    "            cpf = CSMC(fk=fk, N=self.Nx, xstar=x)\n",
    "\n",
    "        # Warmup\n",
    "        w = 0\n",
    "        while w < self.K + self.L:\n",
    "            next(cpf)\n",
    "            w+=1\n",
    "\n",
    "        print(\"Warmup done\")\n",
    "        self.cpf = cpf\n",
    "\n",
    "        new_x = []\n",
    "        theta['sigma'] = 0.2\n",
    "        theta['rho'] = 0.95\n",
    "\n",
    "        for t in range(self.data.shape[0] - self.K - self.L):\n",
    "            if cpf.fk.done(cpf):\n",
    "                raise StopIteration\n",
    "            else:\n",
    "                # Apply resample_forward for each particle\n",
    "                # X_history = np.zeros((t+1, self.Nx))  # Array to store history of states\n",
    "\n",
    "                x_ts = []\n",
    "                x_ss = []\n",
    "                x_s1s = []\n",
    "\n",
    "                for n in range(self.Nx):\n",
    "                    \n",
    "                    X_n = np.array(cpf.hist.X)[:, n]\n",
    "                    \n",
    "                    x_n, cpf = self.resample_forward(cpf, X_n, theta)\n",
    "                    x_s, x_s1, cpf = self.resample_backward(cpf, X_n, theta)\n",
    "                    \n",
    "                    x_ts.append(x_n)\n",
    "                    x_ss.append(x_s)\n",
    "                    x_s1s.append(x_s1)\n",
    "\n",
    "                print(f\"Now at step t: {cpf.t}\")\n",
    "                cpf.Xp = cpf.X\n",
    "                cpf.X = x_ts\n",
    "                \n",
    "                cpf = self.reweight_forward(cpf, x_ts)\n",
    "                cpf = self.reweight_backward(cpf, x_ss, x_s1s)\n",
    "                \n",
    "#                 cpf.reweight_particles()\n",
    "                cpf.compute_summaries()\n",
    "                cpf.t += 1\n",
    "                self.cpf = cpf\n",
    "\n",
    "        new_x = cpf.hist.backward_sampling_ON2(1)\n",
    "\n",
    "        return new_x\n",
    "\n",
    "    def resample_forward(self, cpf, X, theta_n):\n",
    "        y = cpf.fk.data  # Observations\n",
    "        k_values = self.sample_k_values()\n",
    "\n",
    "        # Initialize the lineage array for self.M lineages\n",
    "        X_tK_t1 = np.zeros((self.K + 1, self.M))\n",
    "\n",
    "        # Step 2: Set initial state for all lineages to X[-1]\n",
    "        X_tK_t1[0, :] = X[-1]\n",
    "\n",
    "        t = cpf.t\n",
    "        K = self.K\n",
    "\n",
    "        # Step 3: Propagate particles for each time step j\n",
    "        for j in range(self.K):  # Loop from t-K+1 to t-1\n",
    "            v_values_j = self.compute_v_values(X, y, theta_n, t-K+j)\n",
    "            ancestor_indices = self.sample_ancestor_indices(v_values_j)\n",
    "\n",
    "            for m in range(self.M):\n",
    "                # Skip if m is the sampled k value for this j\n",
    "                if m != k_values[j-1]:\n",
    "                    # Propagate using the q_function\n",
    "                    X_tK_t1[j, m] = self.q_function(cpf.t - self.K + j, X_tK_t1[j - 1, ancestor_indices[m]], y[j], cpf, iterations=5)\n",
    "\n",
    "        # Step 4: Final Sampling for time t\n",
    "        v_values_t = self.compute_v_values(X, y, theta_n, self.K)\n",
    "        ancestor_indices_t = self.sample_ancestor_indices(v_values_t)\n",
    "\n",
    "        # Propagate each lineage for time t\n",
    "        for m in range(self.M):\n",
    "            X_tK_t1[self.K, m] = self.q_function(cpf.t, X_tK_t1[self.K - 1, ancestor_indices_t[m]], y[cpf.t], cpf, iterations=10)\n",
    "\n",
    "        # Print final lineages\n",
    "        self.print_verbose(f\"Selected lineages: {X_tK_t1}\")\n",
    "\n",
    "        # Sample k^*_t and determine the final lineage\n",
    "        k_star_t = self.sample_ancestor_indices(v_values_t)[0]  # Sampling k^*_t\n",
    "\n",
    "        # Select the x_t value from the lineage starting at k_star_t\n",
    "        selected_x_t = X_tK_t1[-1, k_star_t]\n",
    "\n",
    "        return selected_x_t, cpf\n",
    "\n",
    "    def sample_k_values(self):\n",
    "        # Sample K values from {1, ..., M}\n",
    "        return [int(uniform(1, self.M + 1)) for _ in range(self.K)]\n",
    "\n",
    "#     def q_function(self, t, xp, yt, cpf, iterations=5):\n",
    "#         # Initialize x_t based on time step\n",
    "#         x_t = cpf.fk.M0(1)[0] if t == 0 else cpf.fk.M(t, np.array([xp]))[0]\n",
    "\n",
    "#         # Iteratively update x_t using Metropolis-Hastings\n",
    "#         for _ in range(iterations):\n",
    "#             x_t_proposed = cpf.fk.M(t, np.array([xp]))[0]\n",
    "\n",
    "#             # Calculate acceptance ratio using log probabilities\n",
    "#             dist_proposed = self.ssm_cls.PY(self.ssm_cls, t, xp, x_t_proposed)\n",
    "#             dist_current = self.ssm_cls.PY(self.ssm_cls, t, xp, x_t)\n",
    "#             log_prob_proposed = dist_proposed.logpdf(yt)\n",
    "#             log_prob_current = dist_current.logpdf(yt)\n",
    "#             acceptance_ratio = np.exp(log_prob_proposed - log_prob_current)\n",
    "\n",
    "#             self.print_verbose(f\"Proposed x_t: {x_t_proposed}, Current x_t: {x_t}, Acceptance Ratio: {acceptance_ratio}\")\n",
    "\n",
    "#             # Accept or reject the proposal\n",
    "#             if np.random.rand() < acceptance_ratio:\n",
    "#                 x_t = x_t_proposed\n",
    "\n",
    "#         return x_t\n",
    "\n",
    "    def set_and_sample_particles(self, cpf, x_n, k_values, M, q_function, theta_n, y_values):\n",
    "        # Initialize particle states and ancestor indices\n",
    "        x_particles = [None] * M\n",
    "        a_particles = [None] * M\n",
    "\n",
    "        # print(\"Debugging Information:\")\n",
    "        # print(\"x_n:\", x_n)\n",
    "        # print(\"Length of x_n:\", len(x_n))\n",
    "        # print(\"k_values:\", k_values)\n",
    "        # print(\"Length of k_values:\", len(k_values))\n",
    "        # print(\"x_particles:\", x_particles)\n",
    "        # print(\"Length of x_particles:\", len(x_particles))\n",
    "\n",
    "        # Set particle states and ancestor indices\n",
    "        for i, k in enumerate(k_values):\n",
    "\n",
    "            # print(f\"Current index i: {i}, Current k value: {k}, Adjusted index (k - 1): {k - 1}\")\n",
    "\n",
    "            x_particles[k - 1] = x_n[i]\n",
    "            if i < len(k_values) - 1:\n",
    "                a_particles[k_values[i + 1] - 1] = k\n",
    "\n",
    "        # Sample for other particles\n",
    "        for m in range(1, M + 1):\n",
    "            if m not in k_values:\n",
    "                x_particles[m - 1] = x_n[-1]  # Set to the last element in x_n\n",
    "                x_particles[m - 1] = self.q_function(cpf.t-self.K, x_n[-1], y_values[-1], cpf)\n",
    "\n",
    "        return x_particles, a_particles\n",
    "\n",
    "    def f(self, theta_n, x_j, x_j_1):\n",
    "        \"\"\"State transition probability.\"\"\"\n",
    "        dist = self.ssm_cls.PX(theta_n, x_j_1)\n",
    "        return np.exp(dist.logpdf(x_j))\n",
    "\n",
    "    def g(self, theta_n, y_j, x_j):\n",
    "        \"\"\"Observation likelihood.\"\"\"\n",
    "        dist = self.ssm_cls.PY(self.ssm_cls, theta_n, None, x_j)\n",
    "        return np.exp(dist.logpdf(y_j))\n",
    "\n",
    "    def compute_v_values(self, X, y, theta_n, j):\n",
    "        v_values = np.zeros(self.M)\n",
    "        g_values = np.zeros(self.M)\n",
    "\n",
    "        # Calculate g values for all lineages\n",
    "        for m in range(self.M):\n",
    "            x_jm = X[j]  # State of the lineage at time j\n",
    "            g_values[m] = self.g(theta_n, y[j], x_jm)\n",
    "\n",
    "        # Compute v values\n",
    "        g_sum = np.sum(g_values)\n",
    "        for m in range(self.M):\n",
    "            v_values[m] = g_values[m] / g_sum if g_sum != 0 else 1 / self.M\n",
    "\n",
    "        return v_values\n",
    "\n",
    "    def q_function(self, t, xp, yt, cpf, iterations=5):\n",
    "        x_t = cpf.fk.M0(1)[0] if t == 0 else cpf.fk.M(t, np.array([xp]))[0]\n",
    "        for _ in range(iterations):\n",
    "            x_t_proposed = cpf.fk.M(t, np.array([xp]))[0]\n",
    "            dist_proposed = self.ssm_cls.PY(self.ssm_cls, t, xp, x_t_proposed)\n",
    "            dist_current = self.ssm_cls.PY(self.ssm_cls, t, xp, x_t)\n",
    "            acceptance_ratio = np.exp(dist_proposed.logpdf(yt) - dist_current.logpdf(yt))\n",
    "            if np.random.rand() < acceptance_ratio:\n",
    "                x_t = x_t_proposed\n",
    "        return x_t\n",
    "\n",
    "    def sample_ancestor_indices(self, v_values):\n",
    "        \"\"\"\n",
    "        Sample ancestor indices from the categorical distribution defined by v_values.\n",
    "\n",
    "        :param v_values: Computed v values representing probabilities for each ancestor index.\n",
    "        :return: An array of sampled ancestor indices.\n",
    "        \"\"\"\n",
    "        ancestor_indices = np.random.choice(self.M, size=self.M, p=v_values)\n",
    "        self.print_verbose(f\"Sampled Ancestor Indices: {ancestor_indices}\")\n",
    "        return ancestor_indices\n",
    "\n",
    "    def resample_backward(self, cpf, X, theta_n):\n",
    "        y = cpf.fk.data  # Observations\n",
    "        s = cpf.t - self.L  # Starting time\n",
    "        t = cpf.t  # Ending time\n",
    "        k_values = self.sample_k_values()\n",
    "\n",
    "        # Initialize the lineage array for self.M lineages\n",
    "        X_sL_s = np.zeros((self.L + 1, self.M))\n",
    "\n",
    "        # Step 2: Set initial state for all lineages to X[s]\n",
    "        X_sL_s[0, :] = X[s]\n",
    "\n",
    "        # Step 3: Propagate particles for each time step j in reverse\n",
    "        for j in range(self.L-1, 0, -1):  # Loop from t-1 to s\n",
    "            v_values_j = self.compute_v_values(X, y, theta_n, s + j)\n",
    "            ancestor_indices = self.sample_ancestor_indices(v_values_j)\n",
    "\n",
    "            for m in range(self.M):\n",
    "                # Skip if m is the sampled k value for this j\n",
    "                if m != k_values[j]:\n",
    "                    # Propagate using the q_function\n",
    "                    X_sL_s[self.L - j, m] = self.q_function(s + j - 1, X_sL_s[self.L - j + 1, ancestor_indices[m]], y[s + j - 1], cpf, iterations=10)\n",
    "\n",
    "        # Step 4: Final Sampling for time s\n",
    "        v_values_s = self.compute_v_values(X, y, theta_n, s)\n",
    "        ancestor_indices_s = self.sample_ancestor_indices(v_values_s)\n",
    "\n",
    "        # Propagate each lineage for time s\n",
    "        for m in range(self.M):\n",
    "            X_sL_s[self.L, m] = self.q_function(s, X_sL_s[self.L - 1, ancestor_indices_s[m]], y[s], cpf, iterations=10)\n",
    "\n",
    "        # Print final lineages\n",
    "#         cpf.print_verbose(f\"Selected lineages: {X_sL_s}\")\n",
    "\n",
    "        # Sample k^*_s and determine the final lineage\n",
    "        k_star_s = self.sample_ancestor_indices(v_values_s)[0]  # Sampling k^*_s\n",
    "\n",
    "        # Select the x_s value from the lineage starting at k_star_s\n",
    "        selected_x_s = X_sL_s[-1, k_star_s]\n",
    "        selected_x_s1 = X_sL_s[-2, k_star_s]\n",
    "        \n",
    "        return selected_x_s, selected_x_s1, cpf\n",
    "    \n",
    "    def reweight_forward(self, cpf, x_t):\n",
    "        cpf.wgts = cpf.wgts.add(cpf.fk.logG(cpf.t, cpf.Xp, x_t))\n",
    "        return cpf\n",
    "    \n",
    "    def reweight_backward(self, cpf, x_s, x_s1):\n",
    "        cpf.wgts = cpf.wgts.add(-cpf.fk.logG(cpf.t, x_s1, x_s))\n",
    "        return cpf\n",
    "    "
   ]
  },
  {
   "cell_type": "code",
   "execution_count": null,
   "id": "5fb0263b",
   "metadata": {
    "pycharm": {
     "name": "#%%\n"
    }
   },
   "outputs": [],
   "source": [
    "class PGStochVol(ParticleGibbsRolling):\n",
    "\n",
    "    def update_theta(self, theta, x):\n",
    "        new_theta = theta.copy()\n",
    "        sigma, rho = 0.2, 0.95  # fixed values\n",
    "        xlag = np.array(x[1:] + [0.,])\n",
    "        dx = (x - rho * xlag) / (1. - rho)\n",
    "        s = sigma / (1. - rho)**2\n",
    "        new_theta['mu'] = self.prior.laws['mu'].posterior(dx, sigma=s).rvs()\n",
    "        new_theta['sigma'] = sigma\n",
    "        new_theta['rho'] = rho\n",
    "        return new_theta"
   ]
  },
  {
   "cell_type": "code",
   "execution_count": null,
   "id": "4ebcec7c",
   "metadata": {
    "pycharm": {
     "name": "#%%\n"
    }
   },
   "outputs": [],
   "source": [
    "from particles import state_space_models as ssm\n",
    "\n",
    "class StochVol(ssm.StateSpaceModel):\n",
    "    default_parameters = {'mu':-1., 'rho':0.95, 'sigma': 0.2}\n",
    "\n",
    "    def __init__(self, mu=None, rho=None, sigma=None):\n",
    "        \n",
    "        self.mu = -1. if mu is None else mu\n",
    "        self.rho = .95 if rho is None else rho\n",
    "        self.sigma = .2 if sigma is None else sigma\n",
    "        \n",
    "    def PX0(self):  # Distribution of X_0\n",
    "        return dists.Normal(loc=self.mu, scale=self.sigma / np.sqrt(1. - self.rho**2))\n",
    "    def PX(self, t, xp):  # Distribution of X_t given X_{t-1}=xp (p=past)\n",
    "        return dists.Normal(loc=self.mu + self.rho * (xp - self.mu), scale=self.sigma)\n",
    "    def PY(self, t, xp, x):  # Distribution of Y_t given X_t=x (and possibly X_{t-1}=xp)\n",
    "        return dists.Normal(loc=0., scale=np.exp(x))"
   ]
  },
  {
   "cell_type": "code",
   "execution_count": null,
   "id": "edce3af6",
   "metadata": {
    "pycharm": {
     "name": "#%%\n"
    }
   },
   "outputs": [],
   "source": [
    "from particles import distributions as dists\n",
    "from particles import datasets as dts  # real datasets available in the package\n",
    "\n",
    "prior_dict = {'mu': dists.Normal(scale=2.),\n",
    "              'rho': dists.Uniform(a=-1., b=1.),\n",
    "              'sigma':dists.Gamma()}\n",
    "\n",
    "my_prior = dists.StructDist(prior_dict)"
   ]
  },
  {
   "cell_type": "code",
   "execution_count": null,
   "id": "0058db14",
   "metadata": {
    "pycharm": {
     "name": "#%%\n"
    }
   },
   "outputs": [],
   "source": [
    "dts.GBP_vs_USD_9798().data.shape"
   ]
  },
  {
   "cell_type": "code",
   "execution_count": null,
   "id": "3ce60293",
   "metadata": {
    "pycharm": {
     "name": "#%%\n"
    }
   },
   "outputs": [],
   "source": [
    "T = 100\n",
    "data = dts.GBP_vs_USD_9798().data[:T]"
   ]
  },
  {
   "cell_type": "code",
   "execution_count": null,
   "id": "8aa06871",
   "metadata": {
    "pycharm": {
     "name": "#%%\n"
    }
   },
   "outputs": [],
   "source": [
    "pd.DataFrame(list(map(lambda x: x.W, pg.cpf.hist.wgts))).apply(lambda x: 1/np.sum(np.square(x)), axis=1).plot()"
   ]
  },
  {
   "cell_type": "code",
   "execution_count": null,
   "id": "b1f69065",
   "metadata": {
    "pycharm": {
     "name": "#%%\n"
    }
   },
   "outputs": [],
   "source": [
    "pg = PGStochVol(ssm_cls=StochVol, data=data, prior=my_prior, Nx=30, niter=10, verbose=0, store_x=False)"
   ]
  },
  {
   "cell_type": "code",
   "execution_count": null,
   "id": "6bfd65ef",
   "metadata": {
    "pycharm": {
     "name": "#%%\n"
    }
   },
   "outputs": [],
   "source": [
    "pg.run()"
   ]
  },
  {
   "cell_type": "code",
   "execution_count": null,
   "id": "c45a4c1d",
   "metadata": {
    "pycharm": {
     "name": "#%%\n"
    }
   },
   "outputs": [],
   "source": [
    "list(pg.chain.theta[-1])"
   ]
  },
  {
   "cell_type": "code",
   "execution_count": null,
   "id": "897f04fa",
   "metadata": {
    "pycharm": {
     "name": "#%%\n"
    }
   },
   "outputs": [],
   "source": [
    "args = dict(zip(list(prior_dict.keys()), list(pg.chain.theta[-1])))"
   ]
  },
  {
   "cell_type": "code",
   "execution_count": null,
   "id": "b5916683",
   "metadata": {
    "pycharm": {
     "name": "#%%\n"
    }
   },
   "outputs": [],
   "source": [
    "sv_class = StochVol(**args)"
   ]
  },
  {
   "cell_type": "code",
   "execution_count": null,
   "id": "ba1a9f95",
   "metadata": {
    "pycharm": {
     "name": "#%%\n"
    }
   },
   "outputs": [],
   "source": [
    "x, y = sv_class.simulate(200)"
   ]
  },
  {
   "cell_type": "code",
   "execution_count": null,
   "id": "9e90833f",
   "metadata": {
    "pycharm": {
     "name": "#%%\n"
    }
   },
   "outputs": [],
   "source": [
    "pd.DataFrame(pg.chain.theta).mean().plot()"
   ]
  },
  {
   "cell_type": "code",
   "execution_count": null,
   "id": "7f463371",
   "metadata": {
    "pycharm": {
     "name": "#%%\n"
    }
   },
   "outputs": [],
   "source": [
    "pd.DataFrame(data).plot(figsize=(20, 5))"
   ]
  },
  {
   "cell_type": "code",
   "execution_count": null,
   "id": "273bb62a",
   "metadata": {
    "pycharm": {
     "name": "#%%\n"
    }
   },
   "outputs": [],
   "source": [
    "pd.DataFrame(y).applymap(float).plot(figsize=(20, 5))"
   ]
  },
  {
   "cell_type": "markdown",
   "id": "ee2e7a47",
   "metadata": {
    "pycharm": {
     "name": "#%% md\n"
    }
   },
   "source": [
    "## RSV Model "
   ]
  },
  {
   "cell_type": "code",
   "execution_count": null,
   "id": "79be36a4",
   "metadata": {
    "pycharm": {
     "name": "#%%\n"
    }
   },
   "outputs": [],
   "source": [
    "import pandas as pd\n",
    "import numpy as np\n",
    "import matplotlib.pyplot as plt\n",
    "from IPython.display import clear_output\n",
    "import seaborn as sns\n",
    "\n",
    "import scienceplots\n",
    "plt.style.use(['science', 'notebook'])\n",
    "\n",
    "y = pd.read_pickle('y.pck').to_numpy()\n",
    "\n",
    "from scipy.stats import invwishart\n",
    "import numba\n",
    "\n",
    "class InvWishart(dists.ProbDist):\n",
    "    \"\"\"Inverse Gamma(a,b) distribution.\"\"\"\n",
    "\n",
    "    def __init__(self, r=1.0, S=1.0):\n",
    "        self.r = r\n",
    "        self.S = S\n",
    "\n",
    "    def rvs(self, size=None):\n",
    "        return invwishart.rvs(self.r, self.S, size=size)\n",
    "\n",
    "    def logpdf(self, x):\n",
    "        x = np.dot(x.reshape(2, 2).T, x.reshape(2, 2))\n",
    "        return invwishart.logpdf(x, self.r, scale=self.S)\n",
    "\n",
    "\n",
    "class RSVModel(ssm.StateSpaceModel):\n",
    "        \n",
    "    def extract_params(self):\n",
    "        \n",
    "        \n",
    "        self.Sig = (self.Sig+self.Sig.T)/2\n",
    "        self.phi = 2*self.omega - 1\n",
    "        self.sig_eps = np.sqrt(abs(self.Sig[0, 0]))\n",
    "        self.mu = 2*np.log(self.sig_eps)\n",
    "        self.xi = self.c - self.mu\n",
    "        self.sig_eta = np.sqrt(abs(self.Sig[1, 1]))\n",
    "        self.rho = self.Sig[1, 0]/(self.sig_eps*self.sig_eta)\n",
    "                \n",
    "\n",
    "    def PX0(self):  \n",
    "        self.extract_params()\n",
    "        return dists.Normal(loc=self.mu, scale=self.sig_eta*(1-self.phi**2)**(-.5))  # X_0 ~ N(0, 1)\n",
    "    \n",
    "    def PX(self, t, xp):  # Distribution of X_t given X_{t-1}\n",
    "        self.extract_params() \n",
    "        return dists.Normal(loc=self.mu + self.phi*(xp-self.mu), scale=self.sig_eta)  # X_t ~ N( X_{t-1}, 1)\n",
    "    \n",
    "    def PY(self, t, xp, x):\n",
    "        \n",
    "        self.extract_params()\n",
    "        N = len(x)\n",
    "        cov_ = np.zeros((N, 2, 2))\n",
    "        sig_u_squared = self.sig_u**2\n",
    "\n",
    "        loc_ = np.vstack([np.zeros_like(x), x + self.xi]).T   \n",
    "\n",
    "        self.build_cov_matrix(cov_, x, sig_u_squared)\n",
    "\n",
    "        cov_ = np.nan_to_num(cov_, copy=True, nan=1.0)\n",
    "        loc_ = np.nan_to_num(loc_, copy=True, nan=1.0)\n",
    "        \n",
    "        return dists.VaryingCovNormal(loc=loc_, cov=cov_)\n",
    "\n",
    "    @staticmethod\n",
    "    @numba.jit(nopython=True, parallel=True)\n",
    "    def build_cov_matrix(cov_, x, sig_u_squared):\n",
    "        N = len(x)\n",
    "        for n in numba.prange(N):\n",
    "            cov_[n, :, :] = np.array([[np.exp(float(x[n])/2), 0], [0, sig_u_squared]])\n"
   ]
  },
  {
   "cell_type": "code",
   "execution_count": null,
   "id": "bea76900",
   "metadata": {
    "pycharm": {
     "name": "#%%\n"
    }
   },
   "outputs": [],
   "source": [
    "import pandas as pd\n",
    "import numpy as np\n",
    "import matplotlib.pyplot as plt\n",
    "from IPython.display import clear_output\n",
    "import seaborn as sns\n",
    "\n",
    "import scienceplots\n",
    "plt.style.use(['science', 'notebook'])\n",
    "\n",
    "y = pd.read_pickle('y.pck').to_numpy()\n",
    "\n",
    "from scipy.stats import invwishart\n",
    "import numba\n",
    "\n",
    "class InvWishart(dists.ProbDist):\n",
    "    \"\"\"Inverse Gamma(a,b) distribution.\"\"\"\n",
    "\n",
    "    def __init__(self, r=1.0, S=1.0):\n",
    "        self.r = r\n",
    "        self.S = S\n",
    "\n",
    "    def rvs(self, size=None):\n",
    "        return invwishart.rvs(self.r, self.S, size=size)\n",
    "\n",
    "    def logpdf(self, x):\n",
    "        x = np.dot(x.reshape(2, 2).T, x.reshape(2, 2))\n",
    "        return invwishart.logpdf(x, self.r, scale=self.S)\n",
    "\n",
    "\n",
    "class RSVModel(ssm.StateSpaceModel):\n",
    "        \n",
    "    def extract_params(self):\n",
    "        \n",
    "        \n",
    "        self.Sig = (self.Sig+self.Sig.T)/2\n",
    "        self.phi = 2*self.omega - 1\n",
    "        self.sig_eps = np.sqrt(abs(self.Sig[0, 0]))\n",
    "        self.mu = 2*np.log(self.sig_eps)\n",
    "        self.xi = self.c - self.mu\n",
    "        self.sig_eta = np.sqrt(abs(self.Sig[1, 1]))\n",
    "        self.rho = self.Sig[1, 0]/(self.sig_eps*self.sig_eta)\n",
    "                \n",
    "\n",
    "    def PX0(self):  \n",
    "        self.extract_params()\n",
    "        return dists.Normal(loc=self.mu, scale=self.sig_eta*(1-self.phi**2)**(-.5))  # X_0 ~ N(0, 1)\n",
    "    \n",
    "    def PX(self, t, xp):  # Distribution of X_t given X_{t-1}\n",
    "        self.extract_params() \n",
    "        return dists.Normal(loc=self.mu + self.phi*(xp-self.mu), scale=self.sig_eta)  # X_t ~ N( X_{t-1}, 1)\n",
    "    \n",
    "    def PY(self, t, xp, x):\n",
    "        \n",
    "        self.extract_params()\n",
    "        N = len(x)\n",
    "        cov_ = np.zeros((N, 2, 2))\n",
    "        sig_u_squared = self.sig_u**2\n",
    "\n",
    "        loc_ = np.vstack([np.zeros_like(x), x + self.xi]).T   \n",
    "\n",
    "        self.build_cov_matrix(cov_, x, sig_u_squared)\n",
    "\n",
    "        cov_ = np.nan_to_num(cov_, copy=True, nan=1.0)\n",
    "        loc_ = np.nan_to_num(loc_, copy=True, nan=1.0)\n",
    "        \n",
    "        return dists.VaryingCovNormal(loc=loc_, cov=cov_)\n",
    "\n",
    "    @staticmethod\n",
    "    @numba.jit(nopython=True, parallel=True)\n",
    "    def build_cov_matrix(cov_, x, sig_u_squared):\n",
    "        N = len(x)\n",
    "        for n in numba.prange(N):\n",
    "            cov_[n, :, :] = np.array([[np.exp(float(x[n])/2), 0], [0, sig_u_squared]])\n"
   ]
  },
  {
   "cell_type": "code",
   "execution_count": null,
   "id": "436f444d",
   "metadata": {
    "pycharm": {
     "name": "#%%\n"
    }
   },
   "outputs": [],
   "source": [
    "Sig_0 = np.linalg.inv(5*np.array([[1, -.3*.1], [-.3*.1, 1]]))\n",
    "\n",
    "prior_dict = {'omega':dists.Beta(20, 1.5),\n",
    "              'c': dists.Normal(0, 10),\n",
    "              'sig_u':dists.InvGamma(5/2, .05/2),\n",
    "              'Sig': InvWishart(5, Sig_0)\n",
    "             }\n",
    "\n",
    "prior_dict['Sig'].dim = (2, 2)\n",
    "\n",
    "my_prior = dists.StructDist(prior_dict)"
   ]
  },
  {
   "cell_type": "code",
   "execution_count": null,
   "id": "c9b6f281",
   "metadata": {
    "pycharm": {
     "name": "#%%\n"
    }
   },
   "outputs": [],
   "source": [
    "my_pmmh = mcmc.PMMH(ssm_cls=RSVModel, prior=my_prior, data=y, Nx=100,\n",
    "                    niter=1000, verbose=0, adaptive=True, smc_options=smc_options)\n",
    "\n",
    "my_pmmh.run()"
   ]
  },
  {
   "cell_type": "code",
   "execution_count": 32,
   "id": "d8724e78",
   "metadata": {
    "pycharm": {
     "name": "#%%\n"
    }
   },
   "outputs": [
    {
     "data": {
      "text/plain": [
       "array([( 3.53345924e+000, 4.60579078e-001, 2.88992269e+000),\n",
       "       (-8.35346252e-001, 4.60579078e-001, 2.88992269e+000),\n",
       "       ( 3.89734401e+000, 4.60579078e-001, 2.88992269e+000),\n",
       "       ( 4.49723040e-001, 4.60579078e-001, 2.88992269e+000),\n",
       "       ( 2.78974234e+000, 4.60579078e-001, 2.88992269e+000),\n",
       "       ( 1.94610572e-001, 4.60579078e-001, 2.88992269e+000),\n",
       "       ( 1.29611730e+000, 4.60579078e-001, 2.88992269e+000),\n",
       "       ( 1.44832264e+000, 4.60579078e-001, 2.88992269e+000),\n",
       "       ( 1.39744697e-001, 4.60579078e-001, 2.88992269e+000),\n",
       "       ( 1.20790711e+000, 4.60579078e-001, 2.88992269e+000),\n",
       "       ( 1.27801150e+000, 4.60579078e-001, 2.88992269e+000),\n",
       "       ( 1.35984350e+000, 4.60579078e-001, 2.88992269e+000),\n",
       "       (-8.81646730e-001, 4.60579078e-001, 2.88992269e+000),\n",
       "       ( 7.87611723e-001, 4.60579078e-001, 2.88992269e+000),\n",
       "       ( 3.28922119e+000, 4.60579078e-001, 2.88992269e+000),\n",
       "       ( 6.08888542e-013, 1.41740454e+190, 6.01334504e-154),\n",
       "       ( 6.01347002e-154, 2.46819863e-114, 1.50755053e-094),\n",
       "       ( 1.69268303e-139, 1.12355254e+267, 2.43111340e-152),\n",
       "       ( 4.82408859e+228, 3.23714731e+116, 2.46955280e-154),\n",
       "       ( 6.01347002e-154, 5.37625007e+241, 4.81436927e+199),\n",
       "       ( 1.62687797e+219, 1.28425919e+247, 1.87401206e-152),\n",
       "       ( 1.15487345e+171, 2.41317573e+185, 1.68858550e-109),\n",
       "       ( 6.01347002e-154, 1.81786144e+185, 2.41317562e+185),\n",
       "       ( 1.23365849e-094, 7.13222171e-154, 2.79008247e-152),\n",
       "       ( 5.72761869e+188, 3.59065927e+252, 1.86437685e+286),\n",
       "       ( 6.01334690e-154, 6.01347002e-154, 4.91347426e+252),\n",
       "       ( 8.89486968e+252, 1.17339088e+214, 1.06168312e-153),\n",
       "       ( 4.98974808e+180, 2.06696639e+161, 6.01346953e-154),\n",
       "       ( 3.77690826e+180, 4.70107975e+180, 1.51692221e+079),\n",
       "       ( 4.38721174e+156, 4.44387685e+252, 7.08519663e+194),\n",
       "       ( 1.81786179e+185, 1.81450395e-152, 3.06836100e+257),\n",
       "       ( 1.08103738e+155, 2.76455339e+257, 1.13280118e-153),\n",
       "       ( 2.64988828e+180, 1.28060528e-152, 6.07713436e+247),\n",
       "       ( 1.50652428e+161, 9.30549096e+199, 2.03628012e-153),\n",
       "       ( 1.99416198e+174, 1.94855414e+227, 3.80985847e+180),\n",
       "       ( 4.63288070e+228, 5.49338332e+117, 3.60014369e+122),\n",
       "       ( 1.45517163e-152, 2.18226584e+243, 1.94855599e+227),\n",
       "       ( 5.98181669e-154, 5.17627013e-109, 1.81786184e+185),\n",
       "       ( 2.26723914e+161, 9.29450062e+242, 9.17244453e+170),\n",
       "       ( 5.84938613e+199, 1.45699051e-094, 3.33658143e-028),\n",
       "       ( 6.01347002e-154, 8.42948221e+252, 1.75724350e-152),\n",
       "       ( 9.27985755e+242, 1.32551760e+195, 9.14984851e+199),\n",
       "       ( 7.06753875e-096, 3.60679673e-013, 6.01334434e-154),\n",
       "       ( 3.17095862e+180, 2.76455339e+257, 3.98837335e+252),\n",
       "       ( 2.19340303e-152, 8.39918192e-076, 2.58106258e+117),\n",
       "       ( 1.09892467e+155, 4.37334936e+257, 5.98181655e-154),\n",
       "       ( 1.78935395e+161, 7.26606611e+223, 3.25141576e+161),\n",
       "       ( 1.14448609e+243, 7.86517465e+276, 2.43567349e-152),\n",
       "       ( 3.68067497e+180, 5.35721094e+199, 2.61261354e+257),\n",
       "       ( 9.91743091e+260, 4.19338336e+228, 1.27989698e-152),\n",
       "       ( 5.28964691e+180, 2.03727950e+174, 1.39806873e-152),\n",
       "       ( 3.92393345e+252, 1.39540590e-258, 2.64226456e+180),\n",
       "       ( 2.30187912e+161, 2.34502100e+251, 2.02556186e+174),\n",
       "       ( 9.29861948e+242, 2.11408196e+214, 2.66532332e-260),\n",
       "       ( 6.01347002e-154, 1.68200346e+199, 1.49487223e+248),\n",
       "       ( 5.59408852e+093, 2.64982550e+180, 6.01346953e-154),\n",
       "       ( 6.01347002e-154, 6.68546367e+151, 2.92226470e-014),\n",
       "       ( 1.47896826e-028, 9.16284200e+199, 4.59212435e-072),\n",
       "       ( 1.03305578e+219, 1.09724462e+295, 6.01347002e-154),\n",
       "       ( 5.38015711e+241, 7.22756687e+159, 4.20896486e-140)],\n",
       "      dtype=[('mu', '<f8'), ('rho', '<f8'), ('sigma', '<f8')])"
      ]
     },
     "execution_count": 32,
     "metadata": {},
     "output_type": "execute_result"
    }
   ],
   "source": [
    "pg.chain.theta"
   ]
  },
  {
   "cell_type": "code",
   "execution_count": 34,
   "id": "c0bad75e",
   "metadata": {
    "pycharm": {
     "name": "#%%\n"
    }
   },
   "outputs": [
    {
     "data": {
      "text/plain": [
       "<Axes: >"
      ]
     },
     "execution_count": 34,
     "metadata": {},
     "output_type": "execute_result"
    },
    {
     "data": {
      "image/png": "[encoded data removed]",
      "text/plain": [
       "<Figure size 640x480 with 1 Axes>"
      ]
     },
     "metadata": {},
     "output_type": "display_data"
    }
   ],
   "source": [
    "pd.DataFrame(y).applymap(float).plot()"
   ]
  },
  {
   "cell_type": "markdown",
   "id": "186de519",
   "metadata": {
    "pycharm": {
     "name": "#%% md\n"
    }
   },
   "source": [
    "## RSV Model "
   ]
  },
  {
   "cell_type": "code",
   "execution_count": 133,
   "id": "877e87f3",
   "metadata": {
    "pycharm": {
     "name": "#%%\n"
    }
   },
   "outputs": [],
   "source": [
    "import pandas as pd\n",
    "import numpy as np\n",
    "import matplotlib.pyplot as plt\n",
    "from IPython.display import clear_output\n",
    "import seaborn as sns\n",
    "\n",
    "import scienceplots\n",
    "plt.style.use(['science', 'notebook'])\n",
    "\n",
    "y = pd.read_pickle('y.pck').to_numpy()\n",
    "\n",
    "from scipy.stats import invwishart\n",
    "import numba\n",
    "\n",
    "class InvWishart(dists.ProbDist):\n",
    "    \"\"\"Inverse Gamma(a,b) distribution.\"\"\"\n",
    "\n",
    "    def __init__(self, r=1.0, S=1.0):\n",
    "        self.r = r\n",
    "        self.S = S\n",
    "\n",
    "    def rvs(self, size=None):\n",
    "        return invwishart.rvs(self.r, self.S, size=size)\n",
    "\n",
    "    def logpdf(self, x):\n",
    "        x = np.dot(x.reshape(2, 2).T, x.reshape(2, 2))\n",
    "        return invwishart.logpdf(x, self.r, scale=self.S)\n",
    "\n",
    "\n",
    "class RSVModel(ssm.StateSpaceModel):\n",
    "        \n",
    "    def extract_params(self):\n",
    "        \n",
    "        \n",
    "        self.Sig = (self.Sig+self.Sig.T)/2\n",
    "        self.phi = 2*self.omega - 1\n",
    "        self.sig_eps = np.sqrt(abs(self.Sig[0, 0]))\n",
    "        self.mu = 2*np.log(self.sig_eps)\n",
    "        self.xi = self.c - self.mu\n",
    "        self.sig_eta = np.sqrt(abs(self.Sig[1, 1]))\n",
    "        self.rho = self.Sig[1, 0]/(self.sig_eps*self.sig_eta)\n",
    "                \n",
    "\n",
    "    def PX0(self):  \n",
    "        self.extract_params()\n",
    "        return dists.Normal(loc=self.mu, scale=self.sig_eta*(1-self.phi**2)**(-.5))  # X_0 ~ N(0, 1)\n",
    "    \n",
    "    def PX(self, t, xp):  # Distribution of X_t given X_{t-1}\n",
    "        self.extract_params()\n",
    "        return dists.Normal(loc=self.mu + self.phi*(xp-self.mu), scale=self.sig_eta)  # X_t ~ N( X_{t-1}, 1)\n",
    "    \n",
    "    def PY(self, t, xp, x):\n",
    "        \n",
    "        self.extract_params()\n",
    "        N = len(x)\n",
    "        cov_ = np.zeros((N, 2, 2))\n",
    "        sig_u_squared = self.sig_u**2\n",
    "\n",
    "        loc_ = np.vstack([np.zeros_like(x), x + self.xi]).T   \n",
    "\n",
    "        self.build_cov_matrix(cov_, x, sig_u_squared)\n",
    "\n",
    "        cov_ = np.nan_to_num(cov_, copy=True, nan=1.0)\n",
    "        loc_ = np.nan_to_num(loc_, copy=True, nan=1.0)\n",
    "        \n",
    "        return dists.VaryingCovNormal(loc=loc_, cov=cov_)\n",
    "\n",
    "    @staticmethod\n",
    "    @numba.jit(nopython=True, parallel=True)\n",
    "    def build_cov_matrix(cov_, x, sig_u_squared):\n",
    "        N = len(x)\n",
    "        for n in numba.prange(N):\n",
    "            cov_[n, :, :] = np.array([[np.exp(float(x[n])/2), 0], [0, sig_u_squared]])\n"
   ]
  },
  {
   "cell_type": "code",
   "execution_count": 423,
   "id": "f76950d6",
   "metadata": {
    "pycharm": {
     "name": "#%%\n"
    }
   },
   "outputs": [
    {
     "data": {
      "text/plain": [
       "(10, 50)"
      ]
     },
     "execution_count": 423,
     "metadata": {},
     "output_type": "execute_result"
    }
   ],
   "source": [
    "Sig_0 = np.linalg.inv(5*np.array([[1, -.3*.1], [-.3*.1, 1]]))\n",
    "\n",
    "prior_dict = {'omega':dists.Beta(20, 1.5),\n",
    "              'c': dists.Normal(0, 10),\n",
    "              'sig_u':dists.InvGamma(5/2, .05/2),\n",
    "              'Sig': InvWishart(5, Sig_0)\n",
    "             }\n",
    "\n",
    "prior_dict['Sig'].dim = (2, 2)\n",
    "\n",
    "my_prior = dists.StructDist(prior_dict)"
   ]
  },
  {
   "cell_type": "code",
   "execution_count": null,
   "id": "53993beb",
   "metadata": {
    "pycharm": {
     "name": "#%%\n"
    }
   },
   "outputs": [],
   "source": [
    "my_pmmh = mcmc.PMMH(ssm_cls=RSVModel, prior=my_prior, data=y, Nx=100,\n",
    "                    niter=1000, verbose=0, adaptive=True, smc_options=smc_options)\n",
    "\n",
    "my_pmmh.run()"
   ]
  }
 ],
 "metadata": {
  "kernelspec": {
   "display_name": "Python 3 (ipykernel)",
   "language": "python",
   "name": "python3"
  },
  "language_info": {
   "codemirror_mode": {
    "name": "ipython",
    "version": 3
   },
   "file_extension": ".py",
   "mimetype": "text/x-python",
   "name": "python",
   "nbconvert_exporter": "python",
   "pygments_lexer": "ipython3",
   "version": "3.11.4"
  },
  "toc": {
   "base_numbering": 1,
   "nav_menu": {},
   "number_sections": true,
   "sideBar": true,
   "skip_h1_title": false,
   "title_cell": "Table of Contents",
   "title_sidebar": "Contents",
   "toc_cell": false,
   "toc_position": {},
   "toc_section_display": true,
   "toc_window_display": false
  }
 },
 "nbformat": 4,
 "nbformat_minor": 5
}
